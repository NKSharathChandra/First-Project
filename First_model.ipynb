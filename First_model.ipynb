{
  "nbformat": 4,
  "nbformat_minor": 0,
  "metadata": {
    "colab": {
      "provenance": [],
      "authorship_tag": "ABX9TyPekve9zRjak2tNQ31l1/hL",
      "include_colab_link": true
    },
    "kernelspec": {
      "name": "python3",
      "display_name": "Python 3"
    },
    "language_info": {
      "name": "python"
    },
    "accelerator": "GPU",
    "gpuClass": "standard"
  },
  "cells": [
    {
      "cell_type": "markdown",
      "metadata": {
        "id": "view-in-github",
        "colab_type": "text"
      },
      "source": [
        "<a href=\"https://colab.research.google.com/github/NKSharathChandra/First-Project/blob/main/First_model.ipynb\" target=\"_parent\"><img src=\"https://colab.research.google.com/assets/colab-badge.svg\" alt=\"Open In Colab\"/></a>"
      ]
    },
    {
      "cell_type": "code",
      "source": [
        "import tensorflow as tf\n",
        "from tensorflow.keras.preprocessing.text import Tokenizer\n",
        "from tensorflow.keras.layers import Embedding, LSTM, Dense\n",
        "from tensorflow.keras.models import Sequential\n",
        "from tensorflow.keras.utils import to_categorical\n",
        "from tensorflow.keras.optimizers import Adam\n",
        "import pickle \n",
        "import numpy as np\n",
        "import os"
      ],
      "metadata": {
        "id": "8IJeIJdkkeo1"
      },
      "execution_count": 3,
      "outputs": []
    },
    {
      "cell_type": "code",
      "source": [
        "from google.colab import files\n",
        "uploaded=files.upload()"
      ],
      "metadata": {
        "colab": {
          "base_uri": "https://localhost:8080/",
          "height": 73
        },
        "id": "0M4eTi-OlWDN",
        "outputId": "8ced0a59-32af-4d52-b8cd-916107a07a71"
      },
      "execution_count": 4,
      "outputs": [
        {
          "output_type": "display_data",
          "data": {
            "text/plain": [
              "<IPython.core.display.HTML object>"
            ],
            "text/html": [
              "\n",
              "     <input type=\"file\" id=\"files-3c304a3e-33b0-4962-b45b-4a45e63c013f\" name=\"files[]\" multiple disabled\n",
              "        style=\"border:none\" />\n",
              "     <output id=\"result-3c304a3e-33b0-4962-b45b-4a45e63c013f\">\n",
              "      Upload widget is only available when the cell has been executed in the\n",
              "      current browser session. Please rerun this cell to enable.\n",
              "      </output>\n",
              "      <script>// Copyright 2017 Google LLC\n",
              "//\n",
              "// Licensed under the Apache License, Version 2.0 (the \"License\");\n",
              "// you may not use this file except in compliance with the License.\n",
              "// You may obtain a copy of the License at\n",
              "//\n",
              "//      http://www.apache.org/licenses/LICENSE-2.0\n",
              "//\n",
              "// Unless required by applicable law or agreed to in writing, software\n",
              "// distributed under the License is distributed on an \"AS IS\" BASIS,\n",
              "// WITHOUT WARRANTIES OR CONDITIONS OF ANY KIND, either express or implied.\n",
              "// See the License for the specific language governing permissions and\n",
              "// limitations under the License.\n",
              "\n",
              "/**\n",
              " * @fileoverview Helpers for google.colab Python module.\n",
              " */\n",
              "(function(scope) {\n",
              "function span(text, styleAttributes = {}) {\n",
              "  const element = document.createElement('span');\n",
              "  element.textContent = text;\n",
              "  for (const key of Object.keys(styleAttributes)) {\n",
              "    element.style[key] = styleAttributes[key];\n",
              "  }\n",
              "  return element;\n",
              "}\n",
              "\n",
              "// Max number of bytes which will be uploaded at a time.\n",
              "const MAX_PAYLOAD_SIZE = 100 * 1024;\n",
              "\n",
              "function _uploadFiles(inputId, outputId) {\n",
              "  const steps = uploadFilesStep(inputId, outputId);\n",
              "  const outputElement = document.getElementById(outputId);\n",
              "  // Cache steps on the outputElement to make it available for the next call\n",
              "  // to uploadFilesContinue from Python.\n",
              "  outputElement.steps = steps;\n",
              "\n",
              "  return _uploadFilesContinue(outputId);\n",
              "}\n",
              "\n",
              "// This is roughly an async generator (not supported in the browser yet),\n",
              "// where there are multiple asynchronous steps and the Python side is going\n",
              "// to poll for completion of each step.\n",
              "// This uses a Promise to block the python side on completion of each step,\n",
              "// then passes the result of the previous step as the input to the next step.\n",
              "function _uploadFilesContinue(outputId) {\n",
              "  const outputElement = document.getElementById(outputId);\n",
              "  const steps = outputElement.steps;\n",
              "\n",
              "  const next = steps.next(outputElement.lastPromiseValue);\n",
              "  return Promise.resolve(next.value.promise).then((value) => {\n",
              "    // Cache the last promise value to make it available to the next\n",
              "    // step of the generator.\n",
              "    outputElement.lastPromiseValue = value;\n",
              "    return next.value.response;\n",
              "  });\n",
              "}\n",
              "\n",
              "/**\n",
              " * Generator function which is called between each async step of the upload\n",
              " * process.\n",
              " * @param {string} inputId Element ID of the input file picker element.\n",
              " * @param {string} outputId Element ID of the output display.\n",
              " * @return {!Iterable<!Object>} Iterable of next steps.\n",
              " */\n",
              "function* uploadFilesStep(inputId, outputId) {\n",
              "  const inputElement = document.getElementById(inputId);\n",
              "  inputElement.disabled = false;\n",
              "\n",
              "  const outputElement = document.getElementById(outputId);\n",
              "  outputElement.innerHTML = '';\n",
              "\n",
              "  const pickedPromise = new Promise((resolve) => {\n",
              "    inputElement.addEventListener('change', (e) => {\n",
              "      resolve(e.target.files);\n",
              "    });\n",
              "  });\n",
              "\n",
              "  const cancel = document.createElement('button');\n",
              "  inputElement.parentElement.appendChild(cancel);\n",
              "  cancel.textContent = 'Cancel upload';\n",
              "  const cancelPromise = new Promise((resolve) => {\n",
              "    cancel.onclick = () => {\n",
              "      resolve(null);\n",
              "    };\n",
              "  });\n",
              "\n",
              "  // Wait for the user to pick the files.\n",
              "  const files = yield {\n",
              "    promise: Promise.race([pickedPromise, cancelPromise]),\n",
              "    response: {\n",
              "      action: 'starting',\n",
              "    }\n",
              "  };\n",
              "\n",
              "  cancel.remove();\n",
              "\n",
              "  // Disable the input element since further picks are not allowed.\n",
              "  inputElement.disabled = true;\n",
              "\n",
              "  if (!files) {\n",
              "    return {\n",
              "      response: {\n",
              "        action: 'complete',\n",
              "      }\n",
              "    };\n",
              "  }\n",
              "\n",
              "  for (const file of files) {\n",
              "    const li = document.createElement('li');\n",
              "    li.append(span(file.name, {fontWeight: 'bold'}));\n",
              "    li.append(span(\n",
              "        `(${file.type || 'n/a'}) - ${file.size} bytes, ` +\n",
              "        `last modified: ${\n",
              "            file.lastModifiedDate ? file.lastModifiedDate.toLocaleDateString() :\n",
              "                                    'n/a'} - `));\n",
              "    const percent = span('0% done');\n",
              "    li.appendChild(percent);\n",
              "\n",
              "    outputElement.appendChild(li);\n",
              "\n",
              "    const fileDataPromise = new Promise((resolve) => {\n",
              "      const reader = new FileReader();\n",
              "      reader.onload = (e) => {\n",
              "        resolve(e.target.result);\n",
              "      };\n",
              "      reader.readAsArrayBuffer(file);\n",
              "    });\n",
              "    // Wait for the data to be ready.\n",
              "    let fileData = yield {\n",
              "      promise: fileDataPromise,\n",
              "      response: {\n",
              "        action: 'continue',\n",
              "      }\n",
              "    };\n",
              "\n",
              "    // Use a chunked sending to avoid message size limits. See b/62115660.\n",
              "    let position = 0;\n",
              "    do {\n",
              "      const length = Math.min(fileData.byteLength - position, MAX_PAYLOAD_SIZE);\n",
              "      const chunk = new Uint8Array(fileData, position, length);\n",
              "      position += length;\n",
              "\n",
              "      const base64 = btoa(String.fromCharCode.apply(null, chunk));\n",
              "      yield {\n",
              "        response: {\n",
              "          action: 'append',\n",
              "          file: file.name,\n",
              "          data: base64,\n",
              "        },\n",
              "      };\n",
              "\n",
              "      let percentDone = fileData.byteLength === 0 ?\n",
              "          100 :\n",
              "          Math.round((position / fileData.byteLength) * 100);\n",
              "      percent.textContent = `${percentDone}% done`;\n",
              "\n",
              "    } while (position < fileData.byteLength);\n",
              "  }\n",
              "\n",
              "  // All done.\n",
              "  yield {\n",
              "    response: {\n",
              "      action: 'complete',\n",
              "    }\n",
              "  };\n",
              "}\n",
              "\n",
              "scope.google = scope.google || {};\n",
              "scope.google.colab = scope.google.colab || {};\n",
              "scope.google.colab._files = {\n",
              "  _uploadFiles,\n",
              "  _uploadFilesContinue,\n",
              "};\n",
              "})(self);\n",
              "</script> "
            ]
          },
          "metadata": {}
        },
        {
          "output_type": "stream",
          "name": "stdout",
          "text": [
            "Saving metamorphosis_clean.txt to metamorphosis_clean.txt\n"
          ]
        }
      ]
    },
    {
      "cell_type": "code",
      "source": [
        "file = open(\"metamorphosis_clean.txt\", \"r\", encoding = \"utf8\")\n",
        "\n",
        "# store file in list\n",
        "lines = []\n",
        "for i in file:\n",
        "    lines.append(i)\n",
        "\n",
        "# Convert list to string\n",
        "data = \"\"\n",
        "for i in lines:\n",
        "  data = ' '. join(lines) \n",
        "\n",
        "#replace unnecessary stuff with space\n",
        "data = data.replace('\\n', '').replace('\\r', '').replace('\\ufeff', '').replace('“','').replace('”','')  #new line, carriage return, unicode character --> replace by space\n",
        "\n",
        "#remove unnecessary spaces \n",
        "data = data.split()\n",
        "data = ' '.join(data)\n",
        "data[:500]"
      ],
      "metadata": {
        "colab": {
          "base_uri": "https://localhost:8080/",
          "height": 70
        },
        "id": "mzHalyKTlx55",
        "outputId": "c5259143-e427-4147-a6c0-44bad7cc6ed7"
      },
      "execution_count": 5,
      "outputs": [
        {
          "output_type": "execute_result",
          "data": {
            "text/plain": [
              "'One morning, when Gregor Samsa woke from troubled dreams, he found himself transformed in his bed into a horrible vermin. He lay on his armour-like back, and if he lifted his head a little he could see his brown belly, slightly domed and divided by arches into stiff sections. The bedding was hardly able to cover it and seemed ready to slide off any moment. His many legs, pitifully thin compared with the size of the rest of him, waved about helplessly as he looked. \"What\\'s happened to me?\" he tho'"
            ],
            "application/vnd.google.colaboratory.intrinsic+json": {
              "type": "string"
            }
          },
          "metadata": {},
          "execution_count": 5
        }
      ]
    },
    {
      "cell_type": "code",
      "source": [
        "len(data)"
      ],
      "metadata": {
        "colab": {
          "base_uri": "https://localhost:8080/"
        },
        "id": "YOAQs8Lhm3SK",
        "outputId": "34565ba6-22b5-4f24-aa57-2fc65f71ba08"
      },
      "execution_count": 6,
      "outputs": [
        {
          "output_type": "execute_result",
          "data": {
            "text/plain": [
              "118461"
            ]
          },
          "metadata": {},
          "execution_count": 6
        }
      ]
    },
    {
      "cell_type": "code",
      "source": [
        "tokenizer = Tokenizer()\n",
        "tokenizer.fit_on_texts([data])\n",
        "\n",
        "# saving the tokenizer for predict function\n",
        "pickle.dump(tokenizer, open('token.pkl', 'wb'))\n",
        "\n",
        "sequence_data = tokenizer.texts_to_sequences([data])[0]\n",
        "sequence_data[:15]"
      ],
      "metadata": {
        "colab": {
          "base_uri": "https://localhost:8080/"
        },
        "id": "_zIT3Jvom8H3",
        "outputId": "5e874488-8d4b-40cb-b017-5d12f7aa558b"
      },
      "execution_count": 8,
      "outputs": [
        {
          "output_type": "execute_result",
          "data": {
            "text/plain": [
              "[52, 139, 55, 14, 93, 935, 28, 1313, 936, 4, 241, 42, 1314, 10, 5]"
            ]
          },
          "metadata": {},
          "execution_count": 8
        }
      ]
    },
    {
      "cell_type": "code",
      "source": [
        "vocab_size = len(tokenizer.word_index) + 1\n",
        "print(vocab_size)"
      ],
      "metadata": {
        "colab": {
          "base_uri": "https://localhost:8080/"
        },
        "id": "qyFLaOC5nBIi",
        "outputId": "383d4bee-3984-4b26-a073-393440e8d38d"
      },
      "execution_count": 9,
      "outputs": [
        {
          "output_type": "stream",
          "name": "stdout",
          "text": [
            "2617\n"
          ]
        }
      ]
    },
    {
      "cell_type": "code",
      "source": [
        "sequences = []\n",
        "\n",
        "for i in range(3, len(sequence_data)):\n",
        "    words = sequence_data[i-3:i+1]\n",
        "    sequences.append(words)\n",
        "    \n",
        "print(\"The Length of sequences are: \", len(sequences))\n",
        "sequences = np.array(sequences)\n",
        "sequences[:10]\n"
      ],
      "metadata": {
        "colab": {
          "base_uri": "https://localhost:8080/"
        },
        "id": "a5S7gXwrnHAh",
        "outputId": "f082db72-b49d-40dd-f814-252e6e049290"
      },
      "execution_count": 10,
      "outputs": [
        {
          "output_type": "stream",
          "name": "stdout",
          "text": [
            "The Length of sequences are:  22044\n"
          ]
        },
        {
          "output_type": "execute_result",
          "data": {
            "text/plain": [
              "array([[  52,  139,   55,   14],\n",
              "       [ 139,   55,   14,   93],\n",
              "       [  55,   14,   93,  935],\n",
              "       [  14,   93,  935,   28],\n",
              "       [  93,  935,   28, 1313],\n",
              "       [ 935,   28, 1313,  936],\n",
              "       [  28, 1313,  936,    4],\n",
              "       [1313,  936,    4,  241],\n",
              "       [ 936,    4,  241,   42],\n",
              "       [   4,  241,   42, 1314]])"
            ]
          },
          "metadata": {},
          "execution_count": 10
        }
      ]
    },
    {
      "cell_type": "code",
      "source": [
        "X = []\n",
        "y = []\n",
        "\n",
        "for i in sequences:\n",
        "    X.append(i[0:3])\n",
        "    y.append(i[3])\n",
        "    \n",
        "X = np.array(X)\n",
        "y = np.array(y)"
      ],
      "metadata": {
        "id": "dtfotuMvnKRj"
      },
      "execution_count": 11,
      "outputs": []
    },
    {
      "cell_type": "code",
      "source": [
        "\n",
        "print(\"Data: \", X[:10])\n",
        "print(\"Response: \", y[:10])"
      ],
      "metadata": {
        "colab": {
          "base_uri": "https://localhost:8080/"
        },
        "id": "4yrcoMT3nPXQ",
        "outputId": "c65d3f00-442c-4cd4-bac6-e7da3ef1653f"
      },
      "execution_count": 12,
      "outputs": [
        {
          "output_type": "stream",
          "name": "stdout",
          "text": [
            "Data:  [[  52  139   55]\n",
            " [ 139   55   14]\n",
            " [  55   14   93]\n",
            " [  14   93  935]\n",
            " [  93  935   28]\n",
            " [ 935   28 1313]\n",
            " [  28 1313  936]\n",
            " [1313  936    4]\n",
            " [ 936    4  241]\n",
            " [   4  241   42]]\n",
            "Response:  [  14   93  935   28 1313  936    4  241   42 1314]\n"
          ]
        }
      ]
    },
    {
      "cell_type": "code",
      "source": [
        "y = to_categorical(y, num_classes=vocab_size)\n",
        "y[:5]"
      ],
      "metadata": {
        "colab": {
          "base_uri": "https://localhost:8080/"
        },
        "id": "XETXRQiVnTBK",
        "outputId": "ca9608a9-08f9-4890-d3bb-1d18c7f3fc60"
      },
      "execution_count": 13,
      "outputs": [
        {
          "output_type": "execute_result",
          "data": {
            "text/plain": [
              "array([[0., 0., 0., ..., 0., 0., 0.],\n",
              "       [0., 0., 0., ..., 0., 0., 0.],\n",
              "       [0., 0., 0., ..., 0., 0., 0.],\n",
              "       [0., 0., 0., ..., 0., 0., 0.],\n",
              "       [0., 0., 0., ..., 0., 0., 0.]], dtype=float32)"
            ]
          },
          "metadata": {},
          "execution_count": 13
        }
      ]
    },
    {
      "cell_type": "code",
      "source": [
        "model = Sequential()\n",
        "model.add(Embedding(vocab_size, 10, input_length=3))\n",
        "model.add(LSTM(1000, return_sequences=True))\n",
        "model.add(LSTM(1000))\n",
        "model.add(Dense(1000, activation=\"relu\"))\n",
        "model.add(Dense(vocab_size, activation=\"softmax\"))"
      ],
      "metadata": {
        "id": "YPpbnj_WnXUv"
      },
      "execution_count": 14,
      "outputs": []
    },
    {
      "cell_type": "code",
      "source": [
        "model.summary()"
      ],
      "metadata": {
        "colab": {
          "base_uri": "https://localhost:8080/"
        },
        "id": "du5B7e9QnbsC",
        "outputId": "3f655bff-66dc-45f3-aee9-8d44a0fe329d"
      },
      "execution_count": 15,
      "outputs": [
        {
          "output_type": "stream",
          "name": "stdout",
          "text": [
            "Model: \"sequential\"\n",
            "_________________________________________________________________\n",
            " Layer (type)                Output Shape              Param #   \n",
            "=================================================================\n",
            " embedding (Embedding)       (None, 3, 10)             26170     \n",
            "                                                                 \n",
            " lstm (LSTM)                 (None, 3, 1000)           4044000   \n",
            "                                                                 \n",
            " lstm_1 (LSTM)               (None, 1000)              8004000   \n",
            "                                                                 \n",
            " dense (Dense)               (None, 1000)              1001000   \n",
            "                                                                 \n",
            " dense_1 (Dense)             (None, 2617)              2619617   \n",
            "                                                                 \n",
            "=================================================================\n",
            "Total params: 15,694,787\n",
            "Trainable params: 15,694,787\n",
            "Non-trainable params: 0\n",
            "_________________________________________________________________\n"
          ]
        }
      ]
    },
    {
      "cell_type": "code",
      "source": [
        "from tensorflow import keras\n",
        "from keras.utils.vis_utils import plot_model\n",
        "\n",
        "keras.utils.plot_model(model, to_file='plot.png', show_layer_names=True)"
      ],
      "metadata": {
        "colab": {
          "base_uri": "https://localhost:8080/",
          "height": 564
        },
        "id": "uoOg4Ycin_E8",
        "outputId": "bba7b59d-503e-4dbb-8504-a96ac1f2c7bc"
      },
      "execution_count": 16,
      "outputs": [
        {
          "output_type": "execute_result",
          "data": {
            "image/png": "[encoded data removed]",
            "text/plain": [
              "<IPython.core.display.Image object>"
            ]
          },
          "metadata": {},
          "execution_count": 16
        }
      ]
    },
    {
      "cell_type": "code",
      "source": [
        "from tensorflow.keras.callbacks import ModelCheckpoint\n",
        "checkpoint = ModelCheckpoint(\"next_words.h5\", monitor='loss', verbose=1, save_best_only=True)\n",
        "model.compile(loss=\"categorical_crossentropy\", optimizer=Adam(learning_rate=0.001))\n",
        "model.fit(X, y, epochs=20, batch_size=64, callbacks=[checkpoint])"
      ],
      "metadata": {
        "colab": {
          "base_uri": "https://localhost:8080/"
        },
        "id": "YkNbai3aoKr7",
        "outputId": "d3ea2a95-c383-4cb9-9472-89c649a941df"
      },
      "execution_count": 18,
      "outputs": [
        {
          "output_type": "stream",
          "name": "stdout",
          "text": [
            "Epoch 1/20\n",
            "345/345 [==============================] - ETA: 0s - loss: 6.2944\n",
            "Epoch 1: loss improved from inf to 6.29436, saving model to next_words.h5\n",
            "345/345 [==============================] - 15s 32ms/step - loss: 6.2944\n",
            "Epoch 2/20\n",
            "345/345 [==============================] - ETA: 0s - loss: 5.8915\n",
            "Epoch 2: loss improved from 6.29436 to 5.89151, saving model to next_words.h5\n",
            "345/345 [==============================] - 6s 18ms/step - loss: 5.8915\n",
            "Epoch 3/20\n",
            "345/345 [==============================] - ETA: 0s - loss: 5.6430\n",
            "Epoch 3: loss improved from 5.89151 to 5.64296, saving model to next_words.h5\n",
            "345/345 [==============================] - 5s 15ms/step - loss: 5.6430\n",
            "Epoch 4/20\n",
            "345/345 [==============================] - ETA: 0s - loss: 5.4139\n",
            "Epoch 4: loss improved from 5.64296 to 5.41392, saving model to next_words.h5\n",
            "345/345 [==============================] - 6s 16ms/step - loss: 5.4139\n",
            "Epoch 5/20\n",
            "345/345 [==============================] - ETA: 0s - loss: 5.1343\n",
            "Epoch 5: loss improved from 5.41392 to 5.13431, saving model to next_words.h5\n",
            "345/345 [==============================] - 5s 15ms/step - loss: 5.1343\n",
            "Epoch 6/20\n",
            "344/345 [============================>.] - ETA: 0s - loss: 4.8720\n",
            "Epoch 6: loss improved from 5.13431 to 4.87160, saving model to next_words.h5\n",
            "345/345 [==============================] - 5s 16ms/step - loss: 4.8716\n",
            "Epoch 7/20\n",
            "345/345 [==============================] - ETA: 0s - loss: 4.6398\n",
            "Epoch 7: loss improved from 4.87160 to 4.63977, saving model to next_words.h5\n",
            "345/345 [==============================] - 5s 15ms/step - loss: 4.6398\n",
            "Epoch 8/20\n",
            "343/345 [============================>.] - ETA: 0s - loss: 4.4278\n",
            "Epoch 8: loss improved from 4.63977 to 4.42631, saving model to next_words.h5\n",
            "345/345 [==============================] - 5s 15ms/step - loss: 4.4263\n",
            "Epoch 9/20\n",
            "343/345 [============================>.] - ETA: 0s - loss: 4.2135\n",
            "Epoch 9: loss improved from 4.42631 to 4.21275, saving model to next_words.h5\n",
            "345/345 [==============================] - 6s 16ms/step - loss: 4.2127\n",
            "Epoch 10/20\n",
            "345/345 [==============================] - ETA: 0s - loss: 3.9852\n",
            "Epoch 10: loss improved from 4.21275 to 3.98523, saving model to next_words.h5\n",
            "345/345 [==============================] - 5s 14ms/step - loss: 3.9852\n",
            "Epoch 11/20\n",
            "345/345 [==============================] - ETA: 0s - loss: 3.7400\n",
            "Epoch 11: loss improved from 3.98523 to 3.74001, saving model to next_words.h5\n",
            "345/345 [==============================] - 5s 15ms/step - loss: 3.7400\n",
            "Epoch 12/20\n",
            "345/345 [==============================] - ETA: 0s - loss: 3.4767\n",
            "Epoch 12: loss improved from 3.74001 to 3.47673, saving model to next_words.h5\n",
            "345/345 [==============================] - 5s 15ms/step - loss: 3.4767\n",
            "Epoch 13/20\n",
            "344/345 [============================>.] - ETA: 0s - loss: 3.1884\n",
            "Epoch 13: loss improved from 3.47673 to 3.18844, saving model to next_words.h5\n",
            "345/345 [==============================] - 5s 15ms/step - loss: 3.1884\n",
            "Epoch 14/20\n",
            "343/345 [============================>.] - ETA: 0s - loss: 2.8993\n",
            "Epoch 14: loss improved from 3.18844 to 2.90025, saving model to next_words.h5\n",
            "345/345 [==============================] - 5s 15ms/step - loss: 2.9003\n",
            "Epoch 15/20\n",
            "344/345 [============================>.] - ETA: 0s - loss: 2.6222\n",
            "Epoch 15: loss improved from 2.90025 to 2.62161, saving model to next_words.h5\n",
            "345/345 [==============================] - 5s 14ms/step - loss: 2.6216\n",
            "Epoch 16/20\n",
            "345/345 [==============================] - ETA: 0s - loss: 2.3460\n",
            "Epoch 16: loss improved from 2.62161 to 2.34597, saving model to next_words.h5\n",
            "345/345 [==============================] - 5s 16ms/step - loss: 2.3460\n",
            "Epoch 17/20\n",
            "345/345 [==============================] - ETA: 0s - loss: 2.1022\n",
            "Epoch 17: loss improved from 2.34597 to 2.10219, saving model to next_words.h5\n",
            "345/345 [==============================] - 5s 15ms/step - loss: 2.1022\n",
            "Epoch 18/20\n",
            "342/345 [============================>.] - ETA: 0s - loss: 1.8560\n",
            "Epoch 18: loss improved from 2.10219 to 1.85680, saving model to next_words.h5\n",
            "345/345 [==============================] - 5s 15ms/step - loss: 1.8568\n",
            "Epoch 19/20\n",
            "344/345 [============================>.] - ETA: 0s - loss: 1.6381\n",
            "Epoch 19: loss improved from 1.85680 to 1.63843, saving model to next_words.h5\n",
            "345/345 [==============================] - 5s 14ms/step - loss: 1.6384\n",
            "Epoch 20/20\n",
            "345/345 [==============================] - ETA: 0s - loss: 1.4362\n",
            "Epoch 20: loss improved from 1.63843 to 1.43620, saving model to next_words.h5\n",
            "345/345 [==============================] - 6s 16ms/step - loss: 1.4362\n"
          ]
        },
        {
          "output_type": "execute_result",
          "data": {
            "text/plain": [
              "<keras.callbacks.History at 0x7fbdb7cb39d0>"
            ]
          },
          "metadata": {},
          "execution_count": 18
        }
      ]
    },
    {
      "cell_type": "code",
      "source": [
        "from tensorflow.keras.models import load_model\n",
        "import numpy as np\n",
        "import pickle\n",
        "\n",
        "# Load the model and tokenizer\n",
        "model = load_model('next_words.h5')\n",
        "tokenizer = pickle.load(open('token.pkl', 'rb'))\n",
        "\n",
        "def Predict_Next_Words(model, tokenizer, text):\n",
        "\n",
        "  sequence = tokenizer.texts_to_sequences([text])\n",
        "  sequence = np.array(sequence)\n",
        "  preds = np.argmax(model.predict(sequence))\n",
        "  predicted_word = \"\"\n",
        "  \n",
        "  for key, value in tokenizer.word_index.items():\n",
        "      if value == preds:\n",
        "          predicted_word = key\n",
        "          break\n",
        "  \n",
        "  print(predicted_word)\n",
        "  return predicted_word"
      ],
      "metadata": {
        "id": "eQrekj9hoUMn"
      },
      "execution_count": 19,
      "outputs": []
    },
    {
      "cell_type": "code",
      "source": [
        "while(True):\n",
        "  text = input(\"Enter your line: \")\n",
        "  \n",
        "  if text == \"0\":\n",
        "      print(\"Execution completed.....\")\n",
        "      break\n",
        "  \n",
        "  else:\n",
        "      try:\n",
        "          text = text.split(\" \")\n",
        "          text = text[-3:]\n",
        "          print(text)\n",
        "        \n",
        "          Predict_Next_Words(model, tokenizer, text)\n",
        "          \n",
        "      except Exception as e:\n",
        "        print(\"Error occurred: \",e)\n",
        "        continue\n"
      ],
      "metadata": {
        "colab": {
          "base_uri": "https://localhost:8080/"
        },
        "id": "wyVNGZsVqGlZ",
        "outputId": "8adf13f3-ea86-4c64-ba94-32ed930dfb0a"
      },
      "execution_count": null,
      "outputs": [
        {
          "output_type": "stream",
          "name": "stdout",
          "text": [
            "Enter your line: the window at the\n",
            "['window', 'at', 'the']\n",
            "1/1 [==============================] - 1s 657ms/step\n",
            "dull\n"
          ]
        }
      ]
    },
    {
      "cell_type": "code",
      "source": [],
      "metadata": {
        "id": "iZC7Qil1qMuV"
      },
      "execution_count": null,
      "outputs": []
    }
  ]
}